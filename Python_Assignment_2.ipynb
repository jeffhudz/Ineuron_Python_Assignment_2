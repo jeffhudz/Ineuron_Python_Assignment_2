{
  "nbformat": 4,
  "nbformat_minor": 0,
  "metadata": {
    "colab": {
      "name": "Python_Assignment 2.ipynb",
      "provenance": []
    },
    "kernelspec": {
      "name": "python3",
      "display_name": "Python 3"
    },
    "language_info": {
      "name": "python"
    }
  },
  "cells": [
    {
      "cell_type": "markdown",
      "metadata": {
        "id": "fkJsy3ixB4v-"
      },
      "source": [
        "Solution one\n",
        "\n"
      ]
    },
    {
      "cell_type": "code",
      "metadata": {
        "colab": {
          "base_uri": "https://localhost:8080/"
        },
        "id": "stT-EK_XCClh",
        "outputId": "19c03cf0-380b-41d4-e5cc-d81baf8e228e"
      },
      "source": [
        "for i in range(1,6):\n",
        "  print('*'*i)\n",
        "for j in range(4,0,-1):\n",
        "  print('*'*j)"
      ],
      "execution_count": 8,
      "outputs": [
        {
          "output_type": "stream",
          "name": "stdout",
          "text": [
            "*\n",
            "**\n",
            "***\n",
            "****\n",
            "*****\n",
            "****\n",
            "***\n",
            "**\n",
            "*\n"
          ]
        }
      ]
    },
    {
      "cell_type": "markdown",
      "metadata": {
        "id": "cfPfSS56Dfib"
      },
      "source": [
        "Solution two\n"
      ]
    },
    {
      "cell_type": "code",
      "metadata": {
        "colab": {
          "base_uri": "https://localhost:8080/"
        },
        "id": "7BckpdxZDiWV",
        "outputId": "e26ebbf6-1e92-4185-8088-ec9636298b39"
      },
      "source": [
        "word=list(input('Enter any word:'))\n",
        "rev_word=(word[::-1])\n",
        "print(\"\".join(rev_word))      "
      ],
      "execution_count": 10,
      "outputs": [
        {
          "output_type": "stream",
          "name": "stdout",
          "text": [
            "Enter any word:micheal\n",
            "laehcim\n"
          ]
        }
      ]
    },
    {
      "cell_type": "markdown",
      "metadata": {
        "id": "HDYA5dJ7FGcn"
      },
      "source": [
        "Solution three"
      ]
    },
    {
      "cell_type": "code",
      "metadata": {
        "id": "Kd2QHDPTFKIv"
      },
      "source": [
        ""
      ],
      "execution_count": null,
      "outputs": []
    }
  ]
}